{
 "cells": [
  {
   "attachments": {},
   "cell_type": "markdown",
   "metadata": {},
   "source": [
    "# MLflow\n",
    "\n",
    "This notebook goes over how to track your LangChain experiments into your MLflow Server"
   ]
  },
  {
   "cell_type": "code",
   "execution_count": 4,
   "metadata": {},
   "outputs": [
    {
     "name": "stdout",
     "output_type": "stream",
     "text": [
      "Requirement already satisfied: azureml-mlflow in c:\\src\\miniconda\\envs\\langchain\\lib\\site-packages (1.49.0)\n",
      "Requirement already satisfied: azure-core!=1.22.0,<2.0.0,>=1.8.0 in c:\\src\\miniconda\\envs\\langchain\\lib\\site-packages (from azureml-mlflow) (1.26.4)\n",
      "Requirement already satisfied: cryptography in c:\\src\\miniconda\\envs\\langchain\\lib\\site-packages (from azureml-mlflow) (40.0.1)\n",
      "Requirement already satisfied: azure-identity in c:\\src\\miniconda\\envs\\langchain\\lib\\site-packages (from azureml-mlflow) (1.12.0)\n",
      "Requirement already satisfied: msrest>=0.6.18 in c:\\src\\miniconda\\envs\\langchain\\lib\\site-packages (from azureml-mlflow) (0.7.1)\n",
      "Requirement already satisfied: azure-storage-blob<=12.13.0,>=12.5.0 in c:\\src\\miniconda\\envs\\langchain\\lib\\site-packages (from azureml-mlflow) (12.13.0)\n",
      "Requirement already satisfied: python-dateutil<3.0.0,>=2.7.3 in c:\\src\\miniconda\\envs\\langchain\\lib\\site-packages (from azureml-mlflow) (2.8.2)\n",
      "Requirement already satisfied: jsonpickle in c:\\src\\miniconda\\envs\\langchain\\lib\\site-packages (from azureml-mlflow) (3.0.1)\n",
      "Requirement already satisfied: mlflow-skinny in c:\\src\\miniconda\\envs\\langchain\\lib\\site-packages (from azureml-mlflow) (2.2.2)\n",
      "Requirement already satisfied: azure-common<2.0.0,>=1.1 in c:\\src\\miniconda\\envs\\langchain\\lib\\site-packages (from azureml-mlflow) (1.1.28)\n",
      "Requirement already satisfied: azure-mgmt-core<2.0.0,>=1.2.0 in c:\\src\\miniconda\\envs\\langchain\\lib\\site-packages (from azureml-mlflow) (1.4.0)\n",
      "Requirement already satisfied: requests>=2.18.4 in c:\\src\\miniconda\\envs\\langchain\\lib\\site-packages (from azure-core!=1.22.0,<2.0.0,>=1.8.0->azureml-mlflow) (2.28.2)\n",
      "Requirement already satisfied: typing-extensions>=4.3.0 in c:\\src\\miniconda\\envs\\langchain\\lib\\site-packages (from azure-core!=1.22.0,<2.0.0,>=1.8.0->azureml-mlflow) (4.5.0)\n",
      "Requirement already satisfied: six>=1.11.0 in c:\\src\\miniconda\\envs\\langchain\\lib\\site-packages (from azure-core!=1.22.0,<2.0.0,>=1.8.0->azureml-mlflow) (1.16.0)\n",
      "Requirement already satisfied: cffi>=1.12 in c:\\src\\miniconda\\envs\\langchain\\lib\\site-packages (from cryptography->azureml-mlflow) (1.15.1)\n",
      "Requirement already satisfied: isodate>=0.6.0 in c:\\src\\miniconda\\envs\\langchain\\lib\\site-packages (from msrest>=0.6.18->azureml-mlflow) (0.6.1)\n",
      "Requirement already satisfied: certifi>=2017.4.17 in c:\\src\\miniconda\\envs\\langchain\\lib\\site-packages (from msrest>=0.6.18->azureml-mlflow) (2022.12.7)\n",
      "Requirement already satisfied: requests-oauthlib>=0.5.0 in c:\\src\\miniconda\\envs\\langchain\\lib\\site-packages (from msrest>=0.6.18->azureml-mlflow) (1.3.1)\n",
      "Requirement already satisfied: msal<2.0.0,>=1.12.0 in c:\\src\\miniconda\\envs\\langchain\\lib\\site-packages (from azure-identity->azureml-mlflow) (1.21.0)\n",
      "Requirement already satisfied: msal-extensions<2.0.0,>=0.3.0 in c:\\src\\miniconda\\envs\\langchain\\lib\\site-packages (from azure-identity->azureml-mlflow) (1.0.0)\n",
      "Requirement already satisfied: cloudpickle<3 in c:\\src\\miniconda\\envs\\langchain\\lib\\site-packages (from mlflow-skinny->azureml-mlflow) (2.2.1)\n",
      "Requirement already satisfied: gitpython<4,>=2.1.0 in c:\\src\\miniconda\\envs\\langchain\\lib\\site-packages (from mlflow-skinny->azureml-mlflow) (3.1.31)\n",
      "Requirement already satisfied: pyyaml<7,>=5.1 in c:\\src\\miniconda\\envs\\langchain\\lib\\site-packages (from mlflow-skinny->azureml-mlflow) (6.0)\n",
      "Requirement already satisfied: click<9,>=7.0 in c:\\src\\miniconda\\envs\\langchain\\lib\\site-packages (from mlflow-skinny->azureml-mlflow) (8.1.3)\n",
      "Requirement already satisfied: sqlparse<1,>=0.4.0 in c:\\src\\miniconda\\envs\\langchain\\lib\\site-packages (from mlflow-skinny->azureml-mlflow) (0.4.3)\n",
      "Requirement already satisfied: importlib-metadata!=4.7.0,<7,>=3.7.0 in c:\\src\\miniconda\\envs\\langchain\\lib\\site-packages (from mlflow-skinny->azureml-mlflow) (6.0.1)\n",
      "Requirement already satisfied: protobuf<5,>=3.12.0 in c:\\src\\miniconda\\envs\\langchain\\lib\\site-packages (from mlflow-skinny->azureml-mlflow) (3.19.6)\n",
      "Requirement already satisfied: packaging<24 in c:\\src\\miniconda\\envs\\langchain\\lib\\site-packages (from mlflow-skinny->azureml-mlflow) (23.0)\n",
      "Requirement already satisfied: pytz<2023 in c:\\src\\miniconda\\envs\\langchain\\lib\\site-packages (from mlflow-skinny->azureml-mlflow) (2022.7.1)\n",
      "Requirement already satisfied: databricks-cli<1,>=0.8.7 in c:\\src\\miniconda\\envs\\langchain\\lib\\site-packages (from mlflow-skinny->azureml-mlflow) (0.17.6)\n",
      "Requirement already satisfied: entrypoints<1 in c:\\src\\miniconda\\envs\\langchain\\lib\\site-packages (from mlflow-skinny->azureml-mlflow) (0.4)\n",
      "Requirement already satisfied: pycparser in c:\\src\\miniconda\\envs\\langchain\\lib\\site-packages (from cffi>=1.12->cryptography->azureml-mlflow) (2.21)\n",
      "Requirement already satisfied: colorama in c:\\src\\miniconda\\envs\\langchain\\lib\\site-packages (from click<9,>=7.0->mlflow-skinny->azureml-mlflow) (0.4.6)\n",
      "Requirement already satisfied: oauthlib>=3.1.0 in c:\\src\\miniconda\\envs\\langchain\\lib\\site-packages (from databricks-cli<1,>=0.8.7->mlflow-skinny->azureml-mlflow) (3.2.2)\n",
      "Requirement already satisfied: pyjwt>=1.7.0 in c:\\src\\miniconda\\envs\\langchain\\lib\\site-packages (from databricks-cli<1,>=0.8.7->mlflow-skinny->azureml-mlflow) (2.6.0)\n",
      "Requirement already satisfied: tabulate>=0.7.7 in c:\\src\\miniconda\\envs\\langchain\\lib\\site-packages (from databricks-cli<1,>=0.8.7->mlflow-skinny->azureml-mlflow) (0.9.0)\n",
      "Requirement already satisfied: gitdb<5,>=4.0.1 in c:\\src\\miniconda\\envs\\langchain\\lib\\site-packages (from gitpython<4,>=2.1.0->mlflow-skinny->azureml-mlflow) (4.0.10)\n",
      "Requirement already satisfied: zipp>=0.5 in c:\\src\\miniconda\\envs\\langchain\\lib\\site-packages (from importlib-metadata!=4.7.0,<7,>=3.7.0->mlflow-skinny->azureml-mlflow) (3.15.0)\n",
      "Requirement already satisfied: portalocker<3,>=1.6 in c:\\src\\miniconda\\envs\\langchain\\lib\\site-packages (from msal-extensions<2.0.0,>=0.3.0->azure-identity->azureml-mlflow) (2.7.0)\n",
      "Requirement already satisfied: idna<4,>=2.5 in c:\\src\\miniconda\\envs\\langchain\\lib\\site-packages (from requests>=2.18.4->azure-core!=1.22.0,<2.0.0,>=1.8.0->azureml-mlflow) (3.4)\n",
      "Requirement already satisfied: charset-normalizer<4,>=2 in c:\\src\\miniconda\\envs\\langchain\\lib\\site-packages (from requests>=2.18.4->azure-core!=1.22.0,<2.0.0,>=1.8.0->azureml-mlflow) (3.1.0)\n",
      "Requirement already satisfied: urllib3<1.27,>=1.21.1 in c:\\src\\miniconda\\envs\\langchain\\lib\\site-packages (from requests>=2.18.4->azure-core!=1.22.0,<2.0.0,>=1.8.0->azureml-mlflow) (1.26.15)\n",
      "Requirement already satisfied: smmap<6,>=3.0.1 in c:\\src\\miniconda\\envs\\langchain\\lib\\site-packages (from gitdb<5,>=4.0.1->gitpython<4,>=2.1.0->mlflow-skinny->azureml-mlflow) (5.0.0)\n",
      "Requirement already satisfied: pywin32>=226 in c:\\src\\miniconda\\envs\\langchain\\lib\\site-packages (from portalocker<3,>=1.6->msal-extensions<2.0.0,>=0.3.0->azure-identity->azureml-mlflow) (306)\n",
      "Requirement already satisfied: pandas in c:\\src\\miniconda\\envs\\langchain\\lib\\site-packages (2.0.0)\n",
      "Requirement already satisfied: tzdata>=2022.1 in c:\\src\\miniconda\\envs\\langchain\\lib\\site-packages (from pandas) (2023.3)\n",
      "Requirement already satisfied: pytz>=2020.1 in c:\\src\\miniconda\\envs\\langchain\\lib\\site-packages (from pandas) (2022.7.1)\n",
      "Requirement already satisfied: python-dateutil>=2.8.2 in c:\\src\\miniconda\\envs\\langchain\\lib\\site-packages (from pandas) (2.8.2)\n",
      "Requirement already satisfied: numpy>=1.20.3 in c:\\src\\miniconda\\envs\\langchain\\lib\\site-packages (from pandas) (1.23.5)\n",
      "Requirement already satisfied: six>=1.5 in c:\\src\\miniconda\\envs\\langchain\\lib\\site-packages (from python-dateutil>=2.8.2->pandas) (1.16.0)\n",
      "Requirement already satisfied: textstat in c:\\src\\miniconda\\envs\\langchain\\lib\\site-packages (0.7.3)\n",
      "Requirement already satisfied: pyphen in c:\\src\\miniconda\\envs\\langchain\\lib\\site-packages (from textstat) (0.14.0)\n",
      "Requirement already satisfied: spacy in c:\\src\\miniconda\\envs\\langchain\\lib\\site-packages (3.5.1)\n",
      "Requirement already satisfied: cymem<2.1.0,>=2.0.2 in c:\\src\\miniconda\\envs\\langchain\\lib\\site-packages (from spacy) (2.0.7)\n",
      "Requirement already satisfied: langcodes<4.0.0,>=3.2.0 in c:\\src\\miniconda\\envs\\langchain\\lib\\site-packages (from spacy) (3.3.0)\n",
      "Requirement already satisfied: pathy>=0.10.0 in c:\\src\\miniconda\\envs\\langchain\\lib\\site-packages (from spacy) (0.10.1)\n",
      "Requirement already satisfied: spacy-loggers<2.0.0,>=1.0.0 in c:\\src\\miniconda\\envs\\langchain\\lib\\site-packages (from spacy) (1.0.4)\n",
      "Requirement already satisfied: setuptools in c:\\src\\miniconda\\envs\\langchain\\lib\\site-packages (from spacy) (67.6.1)\n",
      "Requirement already satisfied: murmurhash<1.1.0,>=0.28.0 in c:\\src\\miniconda\\envs\\langchain\\lib\\site-packages (from spacy) (1.0.9)\n",
      "Requirement already satisfied: wasabi<1.2.0,>=0.9.1 in c:\\src\\miniconda\\envs\\langchain\\lib\\site-packages (from spacy) (1.1.1)\n",
      "Requirement already satisfied: smart-open<7.0.0,>=5.2.1 in c:\\src\\miniconda\\envs\\langchain\\lib\\site-packages (from spacy) (6.3.0)\n",
      "Requirement already satisfied: spacy-legacy<3.1.0,>=3.0.11 in c:\\src\\miniconda\\envs\\langchain\\lib\\site-packages (from spacy) (3.0.12)\n",
      "Requirement already satisfied: tqdm<5.0.0,>=4.38.0 in c:\\src\\miniconda\\envs\\langchain\\lib\\site-packages (from spacy) (4.65.0)\n",
      "Requirement already satisfied: jinja2 in c:\\src\\miniconda\\envs\\langchain\\lib\\site-packages (from spacy) (3.1.2)\n",
      "Requirement already satisfied: thinc<8.2.0,>=8.1.8 in c:\\src\\miniconda\\envs\\langchain\\lib\\site-packages (from spacy) (8.1.9)\n",
      "Requirement already satisfied: packaging>=20.0 in c:\\src\\miniconda\\envs\\langchain\\lib\\site-packages (from spacy) (23.0)\n",
      "Requirement already satisfied: catalogue<2.1.0,>=2.0.6 in c:\\src\\miniconda\\envs\\langchain\\lib\\site-packages (from spacy) (2.0.8)\n",
      "Requirement already satisfied: pydantic!=1.8,!=1.8.1,<1.11.0,>=1.7.4 in c:\\src\\miniconda\\envs\\langchain\\lib\\site-packages (from spacy) (1.10.7)\n",
      "Requirement already satisfied: requests<3.0.0,>=2.13.0 in c:\\src\\miniconda\\envs\\langchain\\lib\\site-packages (from spacy) (2.28.2)\n",
      "Requirement already satisfied: typer<0.8.0,>=0.3.0 in c:\\src\\miniconda\\envs\\langchain\\lib\\site-packages (from spacy) (0.7.0)\n",
      "Requirement already satisfied: srsly<3.0.0,>=2.4.3 in c:\\src\\miniconda\\envs\\langchain\\lib\\site-packages (from spacy) (2.4.6)\n",
      "Requirement already satisfied: preshed<3.1.0,>=3.0.2 in c:\\src\\miniconda\\envs\\langchain\\lib\\site-packages (from spacy) (3.0.8)\n",
      "Requirement already satisfied: numpy>=1.15.0 in c:\\src\\miniconda\\envs\\langchain\\lib\\site-packages (from spacy) (1.23.5)\n",
      "Requirement already satisfied: typing-extensions>=4.2.0 in c:\\src\\miniconda\\envs\\langchain\\lib\\site-packages (from pydantic!=1.8,!=1.8.1,<1.11.0,>=1.7.4->spacy) (4.5.0)\n",
      "Requirement already satisfied: urllib3<1.27,>=1.21.1 in c:\\src\\miniconda\\envs\\langchain\\lib\\site-packages (from requests<3.0.0,>=2.13.0->spacy) (1.26.15)\n",
      "Requirement already satisfied: charset-normalizer<4,>=2 in c:\\src\\miniconda\\envs\\langchain\\lib\\site-packages (from requests<3.0.0,>=2.13.0->spacy) (3.1.0)\n",
      "Requirement already satisfied: certifi>=2017.4.17 in c:\\src\\miniconda\\envs\\langchain\\lib\\site-packages (from requests<3.0.0,>=2.13.0->spacy) (2022.12.7)\n",
      "Requirement already satisfied: idna<4,>=2.5 in c:\\src\\miniconda\\envs\\langchain\\lib\\site-packages (from requests<3.0.0,>=2.13.0->spacy) (3.4)\n",
      "Requirement already satisfied: blis<0.8.0,>=0.7.8 in c:\\src\\miniconda\\envs\\langchain\\lib\\site-packages (from thinc<8.2.0,>=8.1.8->spacy) (0.7.9)\n",
      "Requirement already satisfied: confection<1.0.0,>=0.0.1 in c:\\src\\miniconda\\envs\\langchain\\lib\\site-packages (from thinc<8.2.0,>=8.1.8->spacy) (0.0.4)\n",
      "Requirement already satisfied: colorama in c:\\src\\miniconda\\envs\\langchain\\lib\\site-packages (from tqdm<5.0.0,>=4.38.0->spacy) (0.4.6)\n",
      "Requirement already satisfied: click<9.0.0,>=7.1.1 in c:\\src\\miniconda\\envs\\langchain\\lib\\site-packages (from typer<0.8.0,>=0.3.0->spacy) (8.1.3)\n",
      "Requirement already satisfied: MarkupSafe>=2.0 in c:\\src\\miniconda\\envs\\langchain\\lib\\site-packages (from jinja2->spacy) (2.1.2)\n",
      "Collecting openai\n",
      "  Downloading openai-0.27.4-py3-none-any.whl (70 kB)\n",
      "     ---------------------------------------- 0.0/70.3 kB ? eta -:--:--\n",
      "     ---------------------------------------- 70.3/70.3 kB 4.0 MB/s eta 0:00:00\n",
      "Requirement already satisfied: aiohttp in c:\\src\\miniconda\\envs\\langchain\\lib\\site-packages (from openai) (3.8.4)\n",
      "Requirement already satisfied: tqdm in c:\\src\\miniconda\\envs\\langchain\\lib\\site-packages (from openai) (4.65.0)\n",
      "Requirement already satisfied: requests>=2.20 in c:\\src\\miniconda\\envs\\langchain\\lib\\site-packages (from openai) (2.28.2)\n",
      "Requirement already satisfied: certifi>=2017.4.17 in c:\\src\\miniconda\\envs\\langchain\\lib\\site-packages (from requests>=2.20->openai) (2022.12.7)\n",
      "Requirement already satisfied: urllib3<1.27,>=1.21.1 in c:\\src\\miniconda\\envs\\langchain\\lib\\site-packages (from requests>=2.20->openai) (1.26.15)\n",
      "Requirement already satisfied: charset-normalizer<4,>=2 in c:\\src\\miniconda\\envs\\langchain\\lib\\site-packages (from requests>=2.20->openai) (3.1.0)\n",
      "Requirement already satisfied: idna<4,>=2.5 in c:\\src\\miniconda\\envs\\langchain\\lib\\site-packages (from requests>=2.20->openai) (3.4)\n",
      "Requirement already satisfied: frozenlist>=1.1.1 in c:\\src\\miniconda\\envs\\langchain\\lib\\site-packages (from aiohttp->openai) (1.3.3)\n",
      "Requirement already satisfied: multidict<7.0,>=4.5 in c:\\src\\miniconda\\envs\\langchain\\lib\\site-packages (from aiohttp->openai) (6.0.4)\n",
      "Requirement already satisfied: attrs>=17.3.0 in c:\\src\\miniconda\\envs\\langchain\\lib\\site-packages (from aiohttp->openai) (22.2.0)\n",
      "Requirement already satisfied: yarl<2.0,>=1.0 in c:\\src\\miniconda\\envs\\langchain\\lib\\site-packages (from aiohttp->openai) (1.8.2)\n",
      "Requirement already satisfied: async-timeout<5.0,>=4.0.0a3 in c:\\src\\miniconda\\envs\\langchain\\lib\\site-packages (from aiohttp->openai) (4.0.2)\n",
      "Requirement already satisfied: aiosignal>=1.1.2 in c:\\src\\miniconda\\envs\\langchain\\lib\\site-packages (from aiohttp->openai) (1.3.1)\n",
      "Requirement already satisfied: colorama in c:\\src\\miniconda\\envs\\langchain\\lib\\site-packages (from tqdm->openai) (0.4.6)\n",
      "Installing collected packages: openai\n",
      "Successfully installed openai-0.27.4\n",
      "Collecting en-core-web-sm==3.5.0\n",
      "  Downloading https://github.com/explosion/spacy-models/releases/download/en_core_web_sm-3.5.0/en_core_web_sm-3.5.0-py3-none-any.whl (12.8 MB)\n",
      "     ---------------------------------------- 0.0/12.8 MB ? eta -:--:--\n",
      "      --------------------------------------- 0.3/12.8 MB 7.9 MB/s eta 0:00:02\n",
      "     -- ------------------------------------- 0.8/12.8 MB 9.7 MB/s eta 0:00:02\n",
      "     ---- ----------------------------------- 1.4/12.8 MB 12.9 MB/s eta 0:00:01\n",
      "     ----- ---------------------------------- 1.9/12.8 MB 12.0 MB/s eta 0:00:01\n",
      "     ------- -------------------------------- 2.5/12.8 MB 12.4 MB/s eta 0:00:01\n",
      "     --------- ------------------------------ 3.1/12.8 MB 12.5 MB/s eta 0:00:01\n",
      "     ----------- ---------------------------- 3.8/12.8 MB 13.4 MB/s eta 0:00:01\n",
      "     ------------- -------------------------- 4.3/12.8 MB 13.6 MB/s eta 0:00:01\n",
      "     --------------- ------------------------ 4.9/12.8 MB 13.7 MB/s eta 0:00:01\n",
      "     ----------------- ---------------------- 5.6/12.8 MB 13.7 MB/s eta 0:00:01\n",
      "     ------------------ --------------------- 6.0/12.8 MB 13.2 MB/s eta 0:00:01\n",
      "     -------------------- ------------------- 6.5/12.8 MB 13.0 MB/s eta 0:00:01\n",
      "     ---------------------- ----------------- 7.2/12.8 MB 13.1 MB/s eta 0:00:01\n",
      "     ------------------------ --------------- 7.9/12.8 MB 13.3 MB/s eta 0:00:01\n",
      "     -------------------------- ------------- 8.6/12.8 MB 13.7 MB/s eta 0:00:01\n",
      "     ---------------------------- ----------- 9.3/12.8 MB 13.8 MB/s eta 0:00:01\n",
      "     ------------------------------ --------- 9.9/12.8 MB 14.1 MB/s eta 0:00:01\n",
      "     ------------------------------- ------- 10.3/12.8 MB 14.2 MB/s eta 0:00:01\n",
      "     ------------------------------- ------- 10.3/12.8 MB 14.2 MB/s eta 0:00:01\n",
      "     ---------------------------------- ---- 11.5/12.8 MB 13.9 MB/s eta 0:00:01\n",
      "     ------------------------------------ -- 12.0/12.8 MB 13.9 MB/s eta 0:00:01\n",
      "     --------------------------------------  12.6/12.8 MB 13.9 MB/s eta 0:00:01\n",
      "     --------------------------------------  12.8/12.8 MB 13.9 MB/s eta 0:00:01\n",
      "     --------------------------------------- 12.8/12.8 MB 13.1 MB/s eta 0:00:00\n",
      "Requirement already satisfied: spacy<3.6.0,>=3.5.0 in c:\\src\\miniconda\\envs\\langchain\\lib\\site-packages (from en-core-web-sm==3.5.0) (3.5.1)\n",
      "Requirement already satisfied: spacy-loggers<2.0.0,>=1.0.0 in c:\\src\\miniconda\\envs\\langchain\\lib\\site-packages (from spacy<3.6.0,>=3.5.0->en-core-web-sm==3.5.0) (1.0.4)\n",
      "Requirement already satisfied: langcodes<4.0.0,>=3.2.0 in c:\\src\\miniconda\\envs\\langchain\\lib\\site-packages (from spacy<3.6.0,>=3.5.0->en-core-web-sm==3.5.0) (3.3.0)\n",
      "Requirement already satisfied: typer<0.8.0,>=0.3.0 in c:\\src\\miniconda\\envs\\langchain\\lib\\site-packages (from spacy<3.6.0,>=3.5.0->en-core-web-sm==3.5.0) (0.7.0)\n",
      "Requirement already satisfied: pathy>=0.10.0 in c:\\src\\miniconda\\envs\\langchain\\lib\\site-packages (from spacy<3.6.0,>=3.5.0->en-core-web-sm==3.5.0) (0.10.1)\n",
      "Requirement already satisfied: pydantic!=1.8,!=1.8.1,<1.11.0,>=1.7.4 in c:\\src\\miniconda\\envs\\langchain\\lib\\site-packages (from spacy<3.6.0,>=3.5.0->en-core-web-sm==3.5.0) (1.10.7)\n",
      "Requirement already satisfied: tqdm<5.0.0,>=4.38.0 in c:\\src\\miniconda\\envs\\langchain\\lib\\site-packages (from spacy<3.6.0,>=3.5.0->en-core-web-sm==3.5.0) (4.65.0)\n",
      "Requirement already satisfied: wasabi<1.2.0,>=0.9.1 in c:\\src\\miniconda\\envs\\langchain\\lib\\site-packages (from spacy<3.6.0,>=3.5.0->en-core-web-sm==3.5.0) (1.1.1)\n",
      "Requirement already satisfied: preshed<3.1.0,>=3.0.2 in c:\\src\\miniconda\\envs\\langchain\\lib\\site-packages (from spacy<3.6.0,>=3.5.0->en-core-web-sm==3.5.0) (3.0.8)\n",
      "Requirement already satisfied: thinc<8.2.0,>=8.1.8 in c:\\src\\miniconda\\envs\\langchain\\lib\\site-packages (from spacy<3.6.0,>=3.5.0->en-core-web-sm==3.5.0) (8.1.9)\n",
      "Requirement already satisfied: spacy-legacy<3.1.0,>=3.0.11 in c:\\src\\miniconda\\envs\\langchain\\lib\\site-packages (from spacy<3.6.0,>=3.5.0->en-core-web-sm==3.5.0) (3.0.12)\n",
      "Requirement already satisfied: setuptools in c:\\src\\miniconda\\envs\\langchain\\lib\\site-packages (from spacy<3.6.0,>=3.5.0->en-core-web-sm==3.5.0) (67.6.1)\n",
      "Requirement already satisfied: smart-open<7.0.0,>=5.2.1 in c:\\src\\miniconda\\envs\\langchain\\lib\\site-packages (from spacy<3.6.0,>=3.5.0->en-core-web-sm==3.5.0) (6.3.0)\n",
      "Requirement already satisfied: jinja2 in c:\\src\\miniconda\\envs\\langchain\\lib\\site-packages (from spacy<3.6.0,>=3.5.0->en-core-web-sm==3.5.0) (3.1.2)\n",
      "Requirement already satisfied: numpy>=1.15.0 in c:\\src\\miniconda\\envs\\langchain\\lib\\site-packages (from spacy<3.6.0,>=3.5.0->en-core-web-sm==3.5.0) (1.23.5)\n",
      "Requirement already satisfied: cymem<2.1.0,>=2.0.2 in c:\\src\\miniconda\\envs\\langchain\\lib\\site-packages (from spacy<3.6.0,>=3.5.0->en-core-web-sm==3.5.0) (2.0.7)\n",
      "Requirement already satisfied: packaging>=20.0 in c:\\src\\miniconda\\envs\\langchain\\lib\\site-packages (from spacy<3.6.0,>=3.5.0->en-core-web-sm==3.5.0) (23.0)\n",
      "Requirement already satisfied: srsly<3.0.0,>=2.4.3 in c:\\src\\miniconda\\envs\\langchain\\lib\\site-packages (from spacy<3.6.0,>=3.5.0->en-core-web-sm==3.5.0) (2.4.6)\n",
      "Requirement already satisfied: murmurhash<1.1.0,>=0.28.0 in c:\\src\\miniconda\\envs\\langchain\\lib\\site-packages (from spacy<3.6.0,>=3.5.0->en-core-web-sm==3.5.0) (1.0.9)\n",
      "Requirement already satisfied: catalogue<2.1.0,>=2.0.6 in c:\\src\\miniconda\\envs\\langchain\\lib\\site-packages (from spacy<3.6.0,>=3.5.0->en-core-web-sm==3.5.0) (2.0.8)\n",
      "Requirement already satisfied: requests<3.0.0,>=2.13.0 in c:\\src\\miniconda\\envs\\langchain\\lib\\site-packages (from spacy<3.6.0,>=3.5.0->en-core-web-sm==3.5.0) (2.28.2)\n",
      "Requirement already satisfied: typing-extensions>=4.2.0 in c:\\src\\miniconda\\envs\\langchain\\lib\\site-packages (from pydantic!=1.8,!=1.8.1,<1.11.0,>=1.7.4->spacy<3.6.0,>=3.5.0->en-core-web-sm==3.5.0) (4.5.0)\n",
      "Requirement already satisfied: certifi>=2017.4.17 in c:\\src\\miniconda\\envs\\langchain\\lib\\site-packages (from requests<3.0.0,>=2.13.0->spacy<3.6.0,>=3.5.0->en-core-web-sm==3.5.0) (2022.12.7)\n",
      "Requirement already satisfied: charset-normalizer<4,>=2 in c:\\src\\miniconda\\envs\\langchain\\lib\\site-packages (from requests<3.0.0,>=2.13.0->spacy<3.6.0,>=3.5.0->en-core-web-sm==3.5.0) (3.1.0)\n",
      "Requirement already satisfied: idna<4,>=2.5 in c:\\src\\miniconda\\envs\\langchain\\lib\\site-packages (from requests<3.0.0,>=2.13.0->spacy<3.6.0,>=3.5.0->en-core-web-sm==3.5.0) (3.4)\n",
      "Requirement already satisfied: urllib3<1.27,>=1.21.1 in c:\\src\\miniconda\\envs\\langchain\\lib\\site-packages (from requests<3.0.0,>=2.13.0->spacy<3.6.0,>=3.5.0->en-core-web-sm==3.5.0) (1.26.15)\n",
      "Requirement already satisfied: confection<1.0.0,>=0.0.1 in c:\\src\\miniconda\\envs\\langchain\\lib\\site-packages (from thinc<8.2.0,>=8.1.8->spacy<3.6.0,>=3.5.0->en-core-web-sm==3.5.0) (0.0.4)\n",
      "Requirement already satisfied: blis<0.8.0,>=0.7.8 in c:\\src\\miniconda\\envs\\langchain\\lib\\site-packages (from thinc<8.2.0,>=8.1.8->spacy<3.6.0,>=3.5.0->en-core-web-sm==3.5.0) (0.7.9)\n",
      "Requirement already satisfied: colorama in c:\\src\\miniconda\\envs\\langchain\\lib\\site-packages (from tqdm<5.0.0,>=4.38.0->spacy<3.6.0,>=3.5.0->en-core-web-sm==3.5.0) (0.4.6)\n",
      "Requirement already satisfied: click<9.0.0,>=7.1.1 in c:\\src\\miniconda\\envs\\langchain\\lib\\site-packages (from typer<0.8.0,>=0.3.0->spacy<3.6.0,>=3.5.0->en-core-web-sm==3.5.0) (8.1.3)\n",
      "Requirement already satisfied: MarkupSafe>=2.0 in c:\\src\\miniconda\\envs\\langchain\\lib\\site-packages (from jinja2->spacy<3.6.0,>=3.5.0->en-core-web-sm==3.5.0) (2.1.2)\n",
      "\u001b[38;5;2m✔ Download and installation successful\u001b[0m\n",
      "You can now load the package via spacy.load('en_core_web_sm')\n"
     ]
    }
   ],
   "source": [
    "!pip install azureml-mlflow\n",
    "!pip install pandas\n",
    "!pip install textstat\n",
    "!pip install spacy\n",
    "!pip install openai\n",
    "!python -m spacy download en_core_web_sm"
   ]
  },
  {
   "cell_type": "code",
   "execution_count": 5,
   "metadata": {
    "id": "T1bSmKd6V2If"
   },
   "outputs": [],
   "source": [
    "import os\n",
    "os.environ[\"MLFLOW_TRACKING_URI\"] = \"\"\n",
    "# os.environ[\"OPENAI_API_KEY\"] = \"\"\n",
    "# os.environ[\"SERPAPI_API_KEY\"] = \"\""
   ]
  },
  {
   "cell_type": "code",
   "execution_count": 6,
   "metadata": {
    "id": "8WAGnTWpUUnD"
   },
   "outputs": [],
   "source": [
    "from langchain.callbacks import MLflowCallbackHandler\n",
    "from langchain.callbacks.base import CallbackManager\n",
    "from langchain.llms import OpenAI"
   ]
  },
  {
   "attachments": {},
   "cell_type": "markdown",
   "metadata": {},
   "source": [
    "NOTE: For beta workflows we have made the default analysis based on textstat and the visualizations based on spacy"
   ]
  },
  {
   "cell_type": "code",
   "execution_count": 7,
   "metadata": {
    "id": "KAz8weWuUeXF"
   },
   "outputs": [
    {
     "name": "stderr",
     "output_type": "stream",
     "text": [
      "WARNING:langchain.callbacks.mlflow_callback:Detected an active MLflow, cleaning\n",
      "WARNING:root:The mlflow callback is currently in beta and is subject to change based on updates to `langchain`. Please report any issues to https://github.com/mlflow/mlflow/issues.\n"
     ]
    }
   ],
   "source": [
    "\"\"\"Main function.\n",
    "\n",
    "This function is used to try the callback handler.\n",
    "Scenarios:\n",
    "1. OpenAI LLM\n",
    "2. Chain with multiple SubChains on multiple generations\n",
    "3. Agent with Tools\n",
    "\"\"\"\n",
    "mlflow_callback = MLflowCallbackHandler()\n",
    "manager = CallbackManager([mlflow_callback])\n",
    "llm = OpenAI(temperature=0, callback_manager=manager, verbose=True)"
   ]
  },
  {
   "cell_type": "code",
   "execution_count": null,
   "metadata": {
    "id": "o_VmneyIUyx8"
   },
   "outputs": [],
   "source": [
    "# SCENARIO 1 - LLM\n",
    "llm_result = llm.generate([\"Tell me a joke\", \"Tell me a poem\"] * 3)\n",
    "mlflow_callback.flush_tracker(llm, name=\"simple_sequential\")"
   ]
  },
  {
   "cell_type": "code",
   "execution_count": 5,
   "metadata": {
    "id": "trxslyb1U28Y"
   },
   "outputs": [],
   "source": [
    "from langchain.prompts import PromptTemplate\n",
    "from langchain.chains import LLMChain"
   ]
  },
  {
   "cell_type": "code",
   "execution_count": null,
   "metadata": {
    "id": "uauQk10SUzF6"
   },
   "outputs": [],
   "source": [
    "# SCENARIO 2 - Chain\n",
    "template = \"\"\"You are a playwright. Given the title of play, it is your job to write a synopsis for that title.\n",
    "Title: {title}\n",
    "Playwright: This is a synopsis for the above play:\"\"\"\n",
    "prompt_template = PromptTemplate(input_variables=[\"title\"], template=template)\n",
    "synopsis_chain = LLMChain(llm=llm, prompt=prompt_template, callback_manager=manager)\n",
    "\n",
    "test_prompts = [\n",
    "    {\n",
    "        \"title\": \"documentary about good video games that push the boundary of game design\"\n",
    "    },\n",
    "    {\"title\": \"cocaine bear vs heroin wolf\"},\n",
    "    {\"title\": \"the best in class mlops tooling\"},\n",
    "]\n",
    "synopsis_chain.apply(test_prompts)\n",
    "mlflow_callback.flush_tracker(synopsis_chain, name=\"agent\")"
   ]
  },
  {
   "cell_type": "code",
   "execution_count": 7,
   "metadata": {
    "id": "_jN73xcPVEpI"
   },
   "outputs": [],
   "source": [
    "from langchain.agents import initialize_agent, load_tools\n",
    "from langchain.agents import AgentType"
   ]
  },
  {
   "cell_type": "code",
   "execution_count": null,
   "metadata": {
    "id": "Gpq4rk6VT9cu"
   },
   "outputs": [],
   "source": [
    "# SCENARIO 3 - Agent with Tools\n",
    "tools = load_tools([\"serpapi\", \"llm-math\"], llm=llm, callback_manager=manager)\n",
    "agent = initialize_agent(\n",
    "    tools,\n",
    "    llm,\n",
    "    agent=AgentType.ZERO_SHOT_REACT_DESCRIPTION,\n",
    "    callback_manager=manager,\n",
    "    verbose=True,\n",
    ")\n",
    "agent.run(\n",
    "    \"Who is Leo DiCaprio's girlfriend? What is her current age raised to the 0.43 power?\"\n",
    ")\n",
    "mlflow_callback.flush_tracker(agent, reset=False, finish=True)"
   ]
  }
 ],
 "metadata": {
  "colab": {
   "provenance": []
  },
  "kernelspec": {
   "display_name": "Python 3 (ipykernel)",
   "language": "python",
   "name": "python3"
  },
  "language_info": {
   "codemirror_mode": {
    "name": "ipython",
    "version": 3
   },
   "file_extension": ".py",
   "mimetype": "text/x-python",
   "name": "python",
   "nbconvert_exporter": "python",
   "pygments_lexer": "ipython3",
   "version": "3.9.16"
  }
 },
 "nbformat": 4,
 "nbformat_minor": 1
}
